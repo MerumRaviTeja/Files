{
 "cells": [
  {
   "cell_type": "code",
   "execution_count": null,
   "metadata": {},
   "outputs": [],
   "source": [
    "class Employee():\n",
    "    def GetType(self):\n",
    "            i=input(\"Enter type of employee: \")\n",
    "            if i==\"H\":\n",
    "               return self.Hourly(),self.Weeklyhours(),self.Hourlywage(),self.Bonus(),self.Salary()\n",
    "            elif i==\"C\":\n",
    "                return\n",
    "            elif i==\"S\":\n",
    "                return\n",
    "            else:\n",
    "                print(\"Enter correct value\")\n",
    "    def Hourly(self):\n",
    "            p=int(input(\"Number of work hours: \"))\n",
    "            self.p=p\n",
    "            while p<0:\n",
    "                print(\"Error\")\n",
    "                p1=int(input(\"Enter Again Number of work hours: \"))\n",
    "                return p1\n",
    "            else:\n",
    "                return p\n",
    "    def Weeklyhours(self):\n",
    "            j=int(input(\"Number of weekly work hours: \"))\n",
    "            self.j=j\n",
    "            if (j==20) or (j==32) or (j==40):\n",
    "                     print(\"Error\")\n",
    "                     j1=int(input(\"Again enter Number of weekly work hours: \"))\n",
    "                     return j1\n",
    "            return j\n",
    "    def Hourlywage(self):\n",
    "            k=int(input(\"Hourly wage hours: \"))\n",
    "            self.k=k\n",
    "            if (k==10) or (k==15) or (k==24):\n",
    "                     print(\"Error\")\n",
    "                     k1=int(input(\"Again enter Hourly wage hours: \"))\n",
    "                     return k1\n",
    "            return k\n",
    "    def Bonus(self):\n",
    "            Ebonus=self.p-self.j\n",
    "            if self.j==20:\n",
    "                self.Extrabonus=12\n",
    "            if self.j==32:\n",
    "                self.Extrabonus=18\n",
    "            if self.j==40:\n",
    "                self.Extrabonus=24\n",
    "            TotalExtraBonus =  Ebonus*self.Extrabonus\n",
    "            self.T=TotalExtraBonus\n",
    "            #print(\"TotalExtrabonus is \",TotalExtraBonus)\n",
    "    def Salary(self):\n",
    "            TotalSalary=(self.p*self.k)+self.T\n",
    "            print(\"TotalSalary is: \",TotalSalary)\n",
    "E=Employee()\n",
    "E.GetType()"
   ]
  }
 ],
 "metadata": {
  "kernelspec": {
   "display_name": "Python 2",
   "language": "python",
   "name": "python2"
  },
  "language_info": {
   "codemirror_mode": {
    "name": "ipython",
    "version": 2
   },
   "file_extension": ".py",
   "mimetype": "text/x-python",
   "name": "python",
   "nbconvert_exporter": "python",
   "pygments_lexer": "ipython2",
   "version": "2.7.14"
  }
 },
 "nbformat": 4,
 "nbformat_minor": 2
}
