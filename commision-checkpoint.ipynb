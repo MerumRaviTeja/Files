{
 "cells": [
  {
   "cell_type": "code",
   "execution_count": null,
   "metadata": {},
   "outputs": [],
   "source": [
    "class Employee():\n",
    "    def GetType(self):\n",
    "        while True:\n",
    "            i=input(\"Enter type of employee[H,C OR S] and want to exit type EXIT: \")\n",
    "            if i==\"H\":\n",
    "               return self.Hourly(),self.Weeklyhours(),self.Hourlywage(),self.Bonus(),self.Salary()\n",
    "            elif i==\"C\":\n",
    "                return self.ExtraCommission()\n",
    "            elif i==\"S\":\n",
    "                return\n",
    "            elif i== \"EXIT\":\n",
    "                 break\n",
    "            else:\n",
    "                continue\n",
    "    def ExtraCommission(self):\n",
    "            global Ec\n",
    "            self.BasicSalary = 40000\n",
    "            lo=int(input(\"enter Yearly Sales Price in million dollors: \"))\n",
    "            if lo<=10:\n",
    "                  self.CommisionPercentage=0\n",
    "            if lo>10 and lo<=30:\n",
    "                  self.CommisionPercentage=1\n",
    "            if lo>30 and lo<=50:\n",
    "                  self.CommisionPercentage=2\n",
    "            if lo>=50:\n",
    "                  self.CommisionPercentage=3\n",
    "            Ec = (self.CommisionPercentage*self.BasicSalary)/100\n",
    "            self.kt=Ec\n",
    "            TotalSalary = self.kt + self.BasicSalary\n",
    "            print(TotalSalary)\n",
    "            return\n",
    "E=Employee()\n",
    "E.GetType()"
   ]
  }
 ],
 "metadata": {
  "kernelspec": {
   "display_name": "Python 2",
   "language": "python",
   "name": "python2"
  },
  "language_info": {
   "codemirror_mode": {
    "name": "ipython",
    "version": 2
   },
   "file_extension": ".py",
   "mimetype": "text/x-python",
   "name": "python",
   "nbconvert_exporter": "python",
   "pygments_lexer": "ipython2",
   "version": "2.7.14"
  }
 },
 "nbformat": 4,
 "nbformat_minor": 2
}
