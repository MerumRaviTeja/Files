{
 "cells": [
  {
   "cell_type": "code",
   "execution_count": null,
   "metadata": {},
   "outputs": [],
   "source": [
    "class Employee():\n",
    "    def GetType(self):\n",
    "            i=input(\"Enter type of employee[H,C OR S]: \")\n",
    "            if i==\"H\":\n",
    "               return self.Hourly(),self.Weeklyhours(),self.Hourlywage(),self.Bonus(),self.Salary()\n",
    "            elif i==\"C\":\n",
    "                return\n",
    "            elif i==\"S\":\n",
    "                return self.ExtraCommission()\n",
    "            else:\n",
    "                print(\"Rerun and Enter correct type\")\n",
    "    def ExtraCommission(self):\n",
    "            self.BasicSalary = 40000\n",
    "            lo=int(input(\"enter Yearly Sales Price in million dollors: \"))\n",
    "            if lo<=10:\n",
    "                  self.CommisionPercentage=0\n",
    "                  global Ec\n",
    "                  Ec = (self.CommisionPercentage*self.BasicSalary)/100\n",
    "                  self.kt=Ec\n",
    "                  TotalSalary = self.kt + self.BasicSalary\n",
    "                  print(TotalSalary)\n",
    "                  return\n",
    "            if lo>10 and lo<=30:\n",
    "                  self.CommisionPercentage=1\n",
    "                  Ec = (self.CommisionPercentage*self.BasicSalary)/100\n",
    "                  self.kt=Ec\n",
    "                  TotalSalary = self.kt + self.BasicSalary\n",
    "                  print(TotalSalary)\n",
    "                  return\n",
    "            if lo>30 and lo<=50:\n",
    "                  self.CommisionPercentage=2\n",
    "                  Ec = (self.CommisionPercentage*self.BasicSalary)/100\n",
    "                  self.kt=Ec\n",
    "                  TotalSalary = self.kt + self.BasicSalary\n",
    "                  print(TotalSalary)\n",
    "                  return\n",
    "            if lo>=50:\n",
    "                  self.CommisionPercentage=3\n",
    "                  Ec = (self.CommisionPercentage*self.BasicSalary)/100\n",
    "                  self.kt=Ec\n",
    "                  TotalSalary = self.kt + self.BasicSalary\n",
    "                  print(TotalSalary)\n",
    "                  return\n",
    "E=Employee()\n",
    "E.GetType()"
   ]
  }
 ],
 "metadata": {
  "kernelspec": {
   "display_name": "Python 2",
   "language": "python",
   "name": "python2"
  },
  "language_info": {
   "codemirror_mode": {
    "name": "ipython",
    "version": 2
   },
   "file_extension": ".py",
   "mimetype": "text/x-python",
   "name": "python",
   "nbconvert_exporter": "python",
   "pygments_lexer": "ipython2",
   "version": "2.7.14"
  }
 },
 "nbformat": 4,
 "nbformat_minor": 2
}
