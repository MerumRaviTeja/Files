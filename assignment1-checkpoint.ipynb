{
 "cells": [
  {
   "cell_type": "code",
   "execution_count": null,
   "metadata": {},
   "outputs": [],
   "source": [
    "class Employee():\n",
    "    def GetType(self):\n",
    "            i=input(\"Enter type of employee: \")\n",
    "            if i==\"H\":\n",
    "               print(\"Employee type is \",i)\n",
    "               return self.Hourly(),self.Weeklyhours()\n",
    "            elif i==\"C\":\n",
    "                print(\"Employee type is \",i)\n",
    "                return\n",
    "            elif i==\"S\":\n",
    "                print(\"Employee type is \",i)\n",
    "                return\n",
    "            else:\n",
    "                print(\"Enter correct value\")\n",
    "    def Hourly(self):\n",
    "            p=int(input(\"Number of work hours: \"))\n",
    "            while p<0:\n",
    "                print(\"Error\")\n",
    "                p1=int(input(\"Enter Again Number of work hours: \"))\n",
    "                print(\"Number of work hours\",p1)\n",
    "                return p1\n",
    "            else:\n",
    "                print(\"Number of work hours\",p)\n",
    "                return  p\n",
    "    def Weeklyhours(self):\n",
    "            l=[20,32,40]\n",
    "            j=int(input(\"Number of weekly work hours: \"))\n",
    "            for b in range(len(l)):\n",
    "                if not l[b] == j:\n",
    "                     print(\"Error\")\n",
    "                     j1=int(input(\"Again enter Number of weekly work hours: \"))\n",
    "                     return j1\n",
    "            print(\"Number of weekly hours\",j)\n",
    "            return j\n",
    "E=Employee()\n",
    "E.GetType()"
   ]
  }
 ],
 "metadata": {
  "kernelspec": {
   "display_name": "Python 2",
   "language": "python",
   "name": "python2"
  },
  "language_info": {
   "codemirror_mode": {
    "name": "ipython",
    "version": 2
   },
   "file_extension": ".py",
   "mimetype": "text/x-python",
   "name": "python",
   "nbconvert_exporter": "python",
   "pygments_lexer": "ipython2",
   "version": "2.7.14"
  }
 },
 "nbformat": 4,
 "nbformat_minor": 2
}
